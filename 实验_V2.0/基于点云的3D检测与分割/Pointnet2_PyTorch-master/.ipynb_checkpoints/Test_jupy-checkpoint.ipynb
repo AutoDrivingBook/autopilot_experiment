{
 "cells": [
  {
   "cell_type": "markdown",
   "metadata": {},
   "source": [
    "导入必要的包"
   ]
  },
  {
   "cell_type": "code",
   "execution_count": 1,
   "metadata": {},
   "outputs": [],
   "source": [
    "import torch\n",
    "import sys"
   ]
  },
  {
   "cell_type": "code",
   "execution_count": null,
   "metadata": {},
   "outputs": [],
   "source": [
    "sys.path.append('/kitti_semantic/Pointnet2_PyTorch-master')"
   ]
  }
 ],
 "metadata": {
  "language_info": {
   "codemirror_mode": {
    "name": "ipython",
    "version": 3
   },
   "file_extension": ".py",
   "mimetype": "text/x-python",
   "name": "python",
   "nbconvert_exporter": "python",
   "pygments_lexer": "ipython3",
   "version": "3.7.7-final"
  },
  "orig_nbformat": 2,
  "kernelspec": {
   "name": "pointnet2",
   "display_name": "Python(3.5 PointNet2)"
  }
 },
 "nbformat": 4,
 "nbformat_minor": 2
}