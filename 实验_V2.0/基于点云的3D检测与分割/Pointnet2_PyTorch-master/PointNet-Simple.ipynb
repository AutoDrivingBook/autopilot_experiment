{
 "cells": [
  {
   "cell_type": "markdown",
   "metadata": {},
   "source": [
    "# 基于PointNet++的点云分类和语义分割实验\n",
    "\n",
    "## 实验简介\n",
    "随着卷积神经网络 CNN 的快速发展,CNN 在二维图像领域取得了十分优秀的成果。但推广到三维领域,无论是成倍增加的网络体积和计算量,还是数据存储量,都是影响卷积神经网络在三维领域发展的障碍。与二维图像上的检测分割不同的是,3D 检测的任务主要是确定可以表示某一种类目标姿态的 3D 边界框,它即包含目标的空间位置信息,也包含目标的朝向、旋转状态等信息;3D分割的任务主要是分割点云,区分不同种类的物体,将整个点云划分为各种在语义上有意义的部分或是各个有意义的个体。\n",
    "\n",
    "点云数据是一个由无序的数据点构成的集合,因此点云数据上的深度学习一直是一个较为困难的任务。在使用深度学习模型处理点云数据之前,往往需要对点云数据进行处理。本次实验我们将使用PyTorch搭建一个Pointnet++点云分割网络。"
   ]
  },
  {
   "cell_type": "markdown",
   "metadata": {},
   "source": [
    "## 实验目的\n",
    "本次实验，我们将学到以下几个知识点：\n",
    "* Pointnet与Pointnet++网络结构\n",
    "* 如何使用Pytorch来搭建并训练Pointnet++点云分割网络\n",
    "* 如何对训练好的网络进行测试"
   ]
  },
  {
   "cell_type": "markdown",
   "metadata": {},
   "source": [
    "## 我们要做什么\n",
    "1. 使用Pytorch搭建Pointnet++网络\n",
    "2. 使用Semantic-kitti数据集训练Pointnet++网络参数\n",
    "3. 使用Semantic-kitti数据集测试Pointnet++网络效果，计算其语义分割精度，并将其结果可视化"
   ]
  },
  {
   "cell_type": "markdown",
   "metadata": {},
   "source": [
    "## 实验设计思路\n",
    "根据Pointnet++网络结构，将其分解为多个基础网络单元，使用Pytorch分别构建这些基础网络，最后将其组合为完整的Pointnet++网络。基于Semantic-kitti-api，实现对semantic-kitti数据的读取与测试集训练集划分，使用这些数据进行训练网路，并测试其分割的精度。最后，利用semantic-kitti-api的可视化部分，将点云分割结果可视化，以直观的方式来观察网络的效果。"
   ]
  }
 ],
 "metadata": {
  "kernelspec": {
   "display_name": "PointNet2.0",
   "language": "python",
   "name": "pointnet2"
  },
  "language_info": {
   "codemirror_mode": {
    "name": "ipython",
    "version": 3
   },
   "file_extension": ".py",
   "mimetype": "text/x-python",
   "name": "python",
   "nbconvert_exporter": "python",
   "pygments_lexer": "ipython3",
   "version": "3.5.4"
  }
 },
 "nbformat": 4,
 "nbformat_minor": 4
}
