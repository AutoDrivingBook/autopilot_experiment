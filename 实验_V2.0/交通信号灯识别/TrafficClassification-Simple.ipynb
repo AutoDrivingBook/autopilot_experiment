{
 "cells": [
  {
   "cell_type": "markdown",
   "metadata": {},
   "source": [
    "# 交通标志牌检测\n",
    "\n",
    "## 实验简介\n",
    "\n",
    "在驾驶过程中，交通标志有着非常重要的作用，它能够为驾驶员提供当前道路的信息，告诉驾驶员在当前路段中，哪些驾驶行为是合法的，哪些驾驶行为是非法的。\n",
    "\n",
    "自动驾驶汽车可通过激光雷达和相机来获取交通标志牌的信息。图像拥有比激光点云更加丰富的颜色和形状信息,可以提取交通标志牌中显示的各种文字、图形等信息。此外，自动驾驶目前所需的高精地图中,不仅包含某物的属性类别,而且还包含该类别具体的特征参数。\n",
    "\n",
    "![traffic_sign](images/traffic_sign.jpg)\n",
    "\n",
    "对于图所示的交通标志牌，不仅包含其形状信息，还包含有文字和符号。文字与图片目前无法通过激光雷达来获取，因此，对交通标志牌的识别，仍然需要使用相机获取的图像来处理。\n",
    "\n",
    "对于人类驾驶员来说,通过眼睛获取标志牌图像后可瞬间在大脑中将交通元素转换为能理解的语义信息,但自动驾驶汽车为了获取交通标志牌上的汽车类型、限速及应急车道等各种语义信息,需要利用各种算法对图像进行处理,才能得到该图像所代表的交通含义。为模拟人类驾驶员进行道路交通元素的识别,下面学习如何基于Caffe进行交通标志牌识别。\n",
    "\n",
    "本次实验我们使用Caffe来训练一个SqueezeNet网络，用来对多种交通标志牌进行分类。\n"
   ]
  },
  {
   "cell_type": "markdown",
   "metadata": {},
   "source": [
    "## 实验目的\n",
    "本次实验我们将学到以下几个知识点：\n",
    "\n",
    "* 如何使用Caffe构建一个SqueezeNet网络，如何设置训练参数\n",
    "* 如何使用Caffe来训练并测试网络"
   ]
  },
  {
   "cell_type": "markdown",
   "metadata": {},
   "source": [
    "## 我们要做什么\n",
    "1. 配置Caffe环境\n",
    "2. 使用Caffe的数据转换命令将数据转换为lmdb格式\n",
    "3. 使用训练集对SqueezeNet进行训练\n",
    "4. 对训练好的模型进行测试"
   ]
  },
  {
   "cell_type": "markdown",
   "metadata": {},
   "source": [
    "## 实验设计思路\n",
    "从现实交通中的规则入手，将交通标示的识别作为自动驾驶的一个子任务。深度学习能够很好地完成这种识别任务，因此，本实验使用交通标志牌来训练一个分类网络，来完成这个任务。"
   ]
  },
  {
   "cell_type": "code",
   "execution_count": null,
   "metadata": {},
   "outputs": [],
   "source": []
  }
 ],
 "metadata": {
  "kernelspec": {
   "display_name": "Python 2.7.12 64-bit",
   "language": "python",
   "name": "python271264bit17546092119b4a8b960227f931782dfb"
  },
  "language_info": {
   "codemirror_mode": {
    "name": "ipython",
    "version": 2
   },
   "file_extension": ".py",
   "mimetype": "text/x-python",
   "name": "python",
   "nbconvert_exporter": "python",
   "pygments_lexer": "ipython2",
   "version": "2.7.12"
  }
 },
 "nbformat": 4,
 "nbformat_minor": 2
}
